{
 "cells": [
  {
   "cell_type": "markdown",
   "metadata": {},
   "source": [
    "### Regression Analysis Project"
   ]
  },
  {
   "cell_type": "markdown",
   "metadata": {},
   "source": [
    "#### Web Automation"
   ]
  },
  {
   "cell_type": "code",
   "execution_count": null,
   "metadata": {},
   "outputs": [],
   "source": [
    "import requests\n",
    "import urllib.request\n",
    "import time"
   ]
  },
  {
   "cell_type": "code",
   "execution_count": null,
   "metadata": {},
   "outputs": [],
   "source": [
    "from selenium import webdriver\n",
    "from selenium.webdriver.support.ui import WebDriverWait\n",
    "from selenium.webdriver.common.by import By\n",
    "from selenium.webdriver.support import expected_conditions as EC\n",
    "from bs4 import BeautifulSoup"
   ]
  },
  {
   "cell_type": "code",
   "execution_count": null,
   "metadata": {},
   "outputs": [],
   "source": [
    "url= 'link to site'\n",
    "response=requests.get(url)"
   ]
  },
  {
   "cell_type": "code",
   "execution_count": null,
   "metadata": {},
   "outputs": [],
   "source": [
    "response #200 confirms a response was obtained, that is it went through"
   ]
  },
  {
   "cell_type": "code",
   "execution_count": null,
   "metadata": {},
   "outputs": [],
   "source": [
    "xpath_1 = '//*[@id=\"mainListingsWrapper\"]/div/div/div[9]/div/div/ul/li[3]/a'\n",
    "xpath_2 = '//*[@id=\"mainListingsWrapper\"]/div/div/div[9]/div/div/ul/li[4]/a'\n",
    "xpath_repeat = '//*[@id=\"mainListingsWrapper\"]/div/div/div[9]/div/div/ul/li[5]/a'\n",
    "xpaths = [xpath_1,xpath_2,xpath_repeat]\n",
    "xpaths.extend([xpath_repeat for i in range(3600)])\n",
    "# xpaths.append(xpath2)\n",
    "# xpaths.append(xpath1)\n"
   ]
  },
  {
   "cell_type": "code",
   "execution_count": null,
   "metadata": {},
   "outputs": [],
   "source": [
    "soup = BeautifulSoup(response.text, 'html.parser')\n",
    "\n",
    "def crawl_auto(url,xpaths,cars,prices,mileage,location):\n",
    "\n",
    "    driver = webdriver.Chrome(\"/Users/TaylorMK23/Downloads/chromedriver\")\n",
    "    driver.get(url)\n",
    "    time.sleep(15)\n",
    "    driver.refresh()\n",
    "    for i,xpath in enumerate(xpaths):\n",
    "\n",
    "        content = driver.page_source\n",
    "        soup = BeautifulSoup(content)\n",
    "\n",
    "        for data in soup.findAll('div', attrs={'class':'col-xs-12 result-item-inner'}):\n",
    "            try:\n",
    "                car_desc = data.find('span', attrs={'itemprop':'itemOffered'})\n",
    "                cars.append(car_desc.text)\n",
    "            except AttributeError:        \n",
    "                car_name_nan_text = 'NaN'\n",
    "                cars.append(car_name_nan_text)\n",
    "            \n",
    "            try:\n",
    "                car_price = data.find('span', attrs={'class':'price-amount'})\n",
    "                prices.append(car_price.text)\n",
    "            except AttributeError:\n",
    "                car_price_nan_text = 'NaN'\n",
    "                prices.append(car_price_nan_text)\n",
    "                \n",
    "            try:\n",
    "                miles = data.find('div', attrs={'class':'kms'})\n",
    "                mileage.append(miles.text)\n",
    "            except AttributeError:\n",
    "                miles_nan_text = 'NaN'\n",
    "                mileage.append(miles_nan_text)\n",
    "            \n",
    "            try:\n",
    "                loc = data.find('span', attrs={'class':'proximity-text'})\n",
    "                location.append(loc.text)\n",
    "            except AttributeError:\n",
    "                loc_nan_text = 'In Toronto, 15 km'\n",
    "                location.append(loc_nan_text)\n",
    "                \n",
    "#         time.sleep(5)    \n",
    "        WebDriverWait(driver, 10).until(EC.element_to_be_clickable((By.XPATH, xpath))).click()\n",
    "        time.sleep(5)\n",
    "        url = driver.current_url\n",
    "        driver.get(url)"
   ]
  },
  {
   "cell_type": "code",
   "execution_count": null,
   "metadata": {},
   "outputs": [],
   "source": [
    "cars=[]\n",
    "prices = []\n",
    "mileages=[]\n",
    "location=[]\n",
    "crawl_auto(url,xpaths,cars,prices,mileages,location)"
   ]
  },
  {
   "cell_type": "code",
   "execution_count": null,
   "metadata": {},
   "outputs": [],
   "source": [
    "S = {'Cars':cars,'Price':prices,'Mileage':mileages,'Location':location}"
   ]
  },
  {
   "cell_type": "code",
   "execution_count": null,
   "metadata": {},
   "outputs": [],
   "source": [
    "import numpy as np\n",
    "import pandas as pd"
   ]
  },
  {
   "cell_type": "code",
   "execution_count": null,
   "metadata": {},
   "outputs": [],
   "source": [
    "scraped = pd.DataFrame(S)"
   ]
  },
  {
   "cell_type": "code",
   "execution_count": null,
   "metadata": {},
   "outputs": [],
   "source": [
    "scraped.to_csv('Scraped2.csv')"
   ]
  },
  {
   "cell_type": "markdown",
   "metadata": {},
   "source": [
    "#### Data Cleaning"
   ]
  },
  {
   "cell_type": "code",
   "execution_count": null,
   "metadata": {},
   "outputs": [],
   "source": [
    "import numpy as np\n",
    "import pandas as pd"
   ]
  },
  {
   "cell_type": "code",
   "execution_count": null,
   "metadata": {},
   "outputs": [],
   "source": [
    "scraped = pd.read_csv('Scraped.csv')\n",
    "scraped.head()"
   ]
  },
  {
   "cell_type": "code",
   "execution_count": null,
   "metadata": {},
   "outputs": [],
   "source": [
    "cars_obj=scraped['Cars']\n",
    "prices_obj=scraped['Price']\n",
    "mileages_obj=scraped['Mileage']\n",
    "location_obj=scraped['Location']\n",
    "\n",
    "cars = [str(item) for item in cars_obj]\n",
    "prices = [str(item) for item in prices_obj]\n",
    "mileages = [str(item) for item in mileages_obj]\n",
    "location = [str(item) for item in location_obj]"
   ]
  },
  {
   "cell_type": "code",
   "execution_count": null,
   "metadata": {},
   "outputs": [],
   "source": [
    "year=[]\n",
    "make=[]\n",
    "model=[]\n",
    "price=[]\n",
    "mileage=[]\n",
    "vendor_location=[]\n",
    "dist_from_TO=[]\n",
    "char1 = ' '\n",
    "char2 = ', '\n",
    "char3 = ' km'\n",
    "\n",
    "for i in range(len(cars)):\n",
    "    cars_list = cars[i].strip().split(' ')\n",
    "    \n",
    "    if len(cars_list) > 1:\n",
    "        car_year = cars_list[0]\n",
    "        car_make = cars_list[1]\n",
    "        car_model = cars_list[2]\n",
    "        year.append(int(car_year))\n",
    "        make.append(car_make)\n",
    "        model.append(car_model)\n",
    "    elif cars_list[0] == 'NaN' or cars_list[0] == 'nan':\n",
    "        year.append(np.NaN)\n",
    "        make.append(np.NaN)\n",
    "        model.append(np.NaN)\n",
    "    else:\n",
    "        car_year = cars_list[0]\n",
    "        car_make = (np.NaN)\n",
    "        car_model = (np.NaN)\n",
    "        year.append(int(car_year))\n",
    "        make.append(car_make)\n",
    "        model.append(car_model)\n",
    "    \n",
    "    price_string = prices[i].replace('$','').replace(',','')\n",
    "    if price_string == 'NaN' or price_string =='nan':\n",
    "        price.append((np.NaN))\n",
    "        \n",
    "    else:\n",
    "#         p = int(prices[i].replace('$','').replace(',',''))\n",
    "        price.append(int(price_string))\n",
    "        \n",
    "    if type(mileages[i]) == float:\n",
    "        \n",
    "        m = mileages[i]\n",
    "        m = 0\n",
    "        mileage.append(m)\n",
    "        \n",
    "    else:\n",
    "        if len(mileages[i].strip().split(' ')) > 1:\n",
    "            m = int(mileages[i].strip().split(' ')[1].replace(',',''))\n",
    "            mileage.append(m)\n",
    "\n",
    "        else:\n",
    "            m = (np.NaN)\n",
    "            mileage.append(m)\n",
    "    \n",
    "#     l = location[i]\n",
    "    loc = location[i][location[i].find(char1)+1 : location[i].find(char2)]\n",
    "    vendor_location.append(loc)\n",
    "    \n",
    "    dist = location[i][location[i].find(char2)+1 : location[i].find(char3)]\n",
    "    dist = dist.replace(',','')\n",
    "    dist_from_TO.append(int(dist))"
   ]
  },
  {
   "cell_type": "code",
   "execution_count": null,
   "metadata": {},
   "outputs": [],
   "source": [
    "D = {'Year':year,'Make':make,'Model':model,'Price':price,'Mileage':mileage,'Location':vendor_location,'TO_distance':dist_from_TO}\n",
    "\n",
    "df = pd.DataFrame(D)\n",
    "df.head()"
   ]
  },
  {
   "cell_type": "code",
   "execution_count": null,
   "metadata": {},
   "outputs": [],
   "source": [
    "df.info()"
   ]
  },
  {
   "cell_type": "code",
   "execution_count": null,
   "metadata": {},
   "outputs": [],
   "source": [
    "df.isna().sum()"
   ]
  },
  {
   "cell_type": "code",
   "execution_count": null,
   "metadata": {},
   "outputs": [],
   "source": [
    "df.dropna(inplace = True)\n",
    "df['Year'] = df['Year'].astype(int)\n",
    "# Here dropping all rows with any NaN value in them\n",
    "# This is not an issue in the grand scheme as there is still a lot of data to complete the analysis with"
   ]
  },
  {
   "cell_type": "markdown",
   "metadata": {},
   "source": [
    "The mean car of available on this site is described as a 2016 car with almost 62,000 miles prices at $33,000"
   ]
  },
  {
   "cell_type": "markdown",
   "metadata": {},
   "source": [
    "### More Data Cleaning"
   ]
  },
  {
   "cell_type": "code",
   "execution_count": null,
   "metadata": {},
   "outputs": [],
   "source": [
    "import numpy as np\n",
    "import pandas as pd\n",
    "import geopandas\n",
    "import geopy\n",
    "from geopy.geocoders import Nominatim\n",
    "from geopy.extra.rate_limiter import RateLimiter"
   ]
  },
  {
   "cell_type": "code",
   "execution_count": null,
   "metadata": {},
   "outputs": [],
   "source": [
    "locator = Nominatim(user_agent=\"myGeocoder\")\n",
    "location = locator.geocode('Port Colborne, Ontario')"
   ]
  },
  {
   "cell_type": "code",
   "execution_count": null,
   "metadata": {},
   "outputs": [],
   "source": [
    "print('Latitude = {}, Longitude = {}'.format(location.latitude, location.longitude))"
   ]
  },
  {
   "cell_type": "code",
   "execution_count": null,
   "metadata": {},
   "outputs": [],
   "source": [
    "df['Location_Region'] = df['Location'] + ', Ontario'"
   ]
  },
  {
   "cell_type": "code",
   "execution_count": null,
   "metadata": {},
   "outputs": [],
   "source": [
    "df.head(2)"
   ]
  },
  {
   "cell_type": "code",
   "execution_count": null,
   "metadata": {},
   "outputs": [],
   "source": [
    "with_loc = df.to_csv('with_loc.csv')"
   ]
  },
  {
   "cell_type": "code",
   "execution_count": null,
   "metadata": {},
   "outputs": [],
   "source": [
    "df = pd.read_csv('with_loc.csv')\n",
    "df.drop('Location_Region', axis = 1, inplace = True)"
   ]
  },
  {
   "cell_type": "markdown",
   "metadata": {},
   "source": [
    "### Geocoding the Location of the cars on Sale"
   ]
  },
  {
   "cell_type": "code",
   "execution_count": null,
   "metadata": {
    "scrolled": true
   },
   "outputs": [],
   "source": [
    "# 1 - convenient function to delay between geocoding calls\n",
    "geocode = RateLimiter(locator.geocode, min_delay_seconds=1)\n",
    "# 2- - create location column\n",
    "df['loc'] = df['Location_Region'].apply(geocode)\n",
    "# 3 - create longitude, laatitude and altitude from location column (returns tuple)\n",
    "df['point'] = df['loc'].apply(lambda loc: tuple(loc.point) if loc else None)\n",
    "# 4 - split point column into latitude, longitude and altitude columns\n",
    "df[['latitude', 'longitude', 'altitude']] = pd.DataFrame(df['point'].tolist(), index=df.index)"
   ]
  },
  {
   "cell_type": "code",
   "execution_count": null,
   "metadata": {},
   "outputs": [],
   "source": [
    "mapbox_token = 'pk.eyJ1Ijoia2Fuam9tZWxvIiwiYSI6ImNrZWJ6aWM2NzBkcmwzM3FsZXZzcWhxbWMifQ.E-yHj-_8YVnf-KD2-zP0oA'"
   ]
  },
  {
   "cell_type": "code",
   "execution_count": null,
   "metadata": {},
   "outputs": [],
   "source": [
    "df_map = pd.read_csv('with_loc2.csv')\n",
    "df_map.head(2)"
   ]
  },
  {
   "cell_type": "code",
   "execution_count": null,
   "metadata": {},
   "outputs": [],
   "source": [
    "df_map = df_map[df_map['TO_distance'] < 500]\n",
    "df_map['Location_Dist'] = df_map['Location'] +', ' + df_map['TO_distance'].astype(str)"
   ]
  },
  {
   "cell_type": "code",
   "execution_count": null,
   "metadata": {},
   "outputs": [],
   "source": [
    "locations = list(df_map['Location'])"
   ]
  },
  {
   "cell_type": "code",
   "execution_count": null,
   "metadata": {
    "scrolled": true
   },
   "outputs": [],
   "source": [
    "means = df_map.groupby('Location')['Price'].mean()\n",
    "means = means.to_frame()\n",
    "means = means.reset_index()\n",
    "means.head(2)"
   ]
  },
  {
   "cell_type": "code",
   "execution_count": null,
   "metadata": {},
   "outputs": [],
   "source": [
    "df_map = df_map.merge(means, on='Location',how='left')"
   ]
  },
  {
   "cell_type": "code",
   "execution_count": null,
   "metadata": {},
   "outputs": [],
   "source": [
    "Q1 = df_map.quantile(0.25)\n",
    "Q3 = df_map.quantile(0.75)\n",
    "IQR = Q3 - Q1\n",
    "df_map = df_map[~((df_map < (Q1 - 1.5 * IQR)) |(df_map > (Q3 + 1.5 * IQR))).any(axis=1)]"
   ]
  },
  {
   "cell_type": "code",
   "execution_count": null,
   "metadata": {},
   "outputs": [],
   "source": [
    "map_cleaned = df_map.to_csv('map_cleaned.csv')"
   ]
  },
  {
   "cell_type": "markdown",
   "metadata": {},
   "source": [
    "### Data Visualization"
   ]
  },
  {
   "cell_type": "code",
   "execution_count": null,
   "metadata": {},
   "outputs": [],
   "source": [
    "import matplotlib\n",
    "import matplotlib.pyplot as plt\n",
    "import seaborn as sns"
   ]
  },
  {
   "cell_type": "code",
   "execution_count": null,
   "metadata": {
    "scrolled": false
   },
   "outputs": [],
   "source": [
    "import plotly.graph_objects as go\n",
    "\n",
    "fig = go.Figure(go.Scattermapbox(\n",
    "        lat=df_map['latitude'],\n",
    "        lon=df_map['longitude'],\n",
    "        mode='markers',\n",
    "        marker=go.scattermapbox.Marker(\n",
    "            size=df_map['Price_y']/2500,\n",
    "            color=df_map['TO_distance'],\n",
    "            colorscale='electric', \n",
    "            showscale=True\n",
    "            ),\n",
    "        text=df_map[['Price_y']],\n",
    "    ))\n",
    "\n",
    "fig.update_layout(\n",
    "    autosize=True,\n",
    "    hovermode='closest',\n",
    "    mapbox=dict(\n",
    "        accesstoken=mapbox_token,\n",
    "        bearing=0,\n",
    "        center=dict(lat=43.6532,lon=-79.3832),\n",
    "        pitch=0,\n",
    "        zoom=6.5\n",
    "    ),\n",
    ")\n",
    "\n",
    "fig.show()"
   ]
  },
  {
   "cell_type": "code",
   "execution_count": null,
   "metadata": {},
   "outputs": [],
   "source": [
    "plt.figure(figsize=(6, 8))\n",
    "sns.set_style('whitegrid')\n",
    "bp = sns.boxplot(y=df_map['Price_y'])#, y=df.Price)\n",
    "bp"
   ]
  },
  {
   "cell_type": "markdown",
   "metadata": {},
   "source": [
    "### Exploratory Data Analysis"
   ]
  },
  {
   "cell_type": "code",
   "execution_count": null,
   "metadata": {},
   "outputs": [],
   "source": [
    "from scipy import stats\n",
    "%matplotlib inline"
   ]
  },
  {
   "cell_type": "code",
   "execution_count": null,
   "metadata": {},
   "outputs": [],
   "source": [
    "sns.set_style('whitegrid')\n",
    "pg = sns.PairGrid(data=df, height = 2.5)\n",
    "pg.map(plt.scatter, s = 8.0,color = '#538DAA')"
   ]
  },
  {
   "cell_type": "markdown",
   "metadata": {},
   "source": [
    "There seem to be quite a number of outliers which could heavily skew our analysis, I would like to dive into this further"
   ]
  },
  {
   "cell_type": "code",
   "execution_count": null,
   "metadata": {},
   "outputs": [],
   "source": [
    "plt.figure(figsize=(6, 8))\n",
    "sns.set_style('whitegrid')\n",
    "bx = sns.boxplot(y=df['Price'])#, y=df.Price)\n",
    "bx"
   ]
  },
  {
   "cell_type": "code",
   "execution_count": null,
   "metadata": {},
   "outputs": [],
   "source": [
    "Q1 = df.quantile(0.25)\n",
    "Q3 = df.quantile(0.75)\n",
    "IQR = Q3 - Q1\n",
    "print(IQR)"
   ]
  },
  {
   "cell_type": "code",
   "execution_count": null,
   "metadata": {},
   "outputs": [],
   "source": [
    "df2 = df"
   ]
  },
  {
   "cell_type": "code",
   "execution_count": null,
   "metadata": {},
   "outputs": [],
   "source": [
    "df_out = df2[~((df2 < (Q1 - 1.5 * IQR)) |(df2 > (Q3 + 1.5 * IQR))).any(axis=1)]\n",
    "df_out.shape"
   ]
  },
  {
   "cell_type": "code",
   "execution_count": null,
   "metadata": {},
   "outputs": [],
   "source": [
    "plt.figure(figsize=(6, 8))\n",
    "sns.set_style('whitegrid')\n",
    "bx = sns.boxplot(y=df_out['Price'])#, y=df.Price)\n",
    "bx"
   ]
  },
  {
   "cell_type": "code",
   "execution_count": null,
   "metadata": {
    "scrolled": true
   },
   "outputs": [],
   "source": [
    "sns.set_style('whitegrid')\n",
    "pg = sns.PairGrid(data=df_out, height = 2.5)\n",
    "pg.map(plt.scatter, s = 8.0,color = '#538DAA')"
   ]
  },
  {
   "cell_type": "code",
   "execution_count": null,
   "metadata": {
    "scrolled": false
   },
   "outputs": [],
   "source": [
    "sns.heatmap(df_out.corr())"
   ]
  },
  {
   "cell_type": "code",
   "execution_count": null,
   "metadata": {},
   "outputs": [],
   "source": [
    "df_out = df_out.drop('Unnamed: 0', axis =1)"
   ]
  },
  {
   "cell_type": "code",
   "execution_count": null,
   "metadata": {
    "scrolled": true
   },
   "outputs": [],
   "source": [
    "duplicateDFRow = df_out[df_out.duplicated()]\n",
    "print(duplicateDFRow)"
   ]
  },
  {
   "cell_type": "code",
   "execution_count": null,
   "metadata": {
    "scrolled": true
   },
   "outputs": [],
   "source": [
    "df3 = pd.get_dummies(df_out)\n",
    "df3.head()"
   ]
  },
  {
   "cell_type": "code",
   "execution_count": null,
   "metadata": {},
   "outputs": [],
   "source": [
    "df3.describe()"
   ]
  },
  {
   "cell_type": "code",
   "execution_count": null,
   "metadata": {},
   "outputs": [],
   "source": [
    "sns.set_style('whitegrid')\n",
    "plt.subplots(figsize=[20,15])\n",
    "plt.title('Distribution of Car Prices by Car Make', fontsize = 18)\n",
    "plt.xlabel('Price', fontsize = 18)\n",
    "plt.ylabel('Make', fontsize = 18)\n",
    "sns.boxplot(data=df_out, x='Price', y='Make', showfliers=False)"
   ]
  },
  {
   "cell_type": "code",
   "execution_count": null,
   "metadata": {},
   "outputs": [],
   "source": [
    "sns.set_style('whitegrid')\n",
    "plt.subplots(figsize=[20,15])\n",
    "plt.title('Distribution of Car Prices by Year', fontsize = 18)\n",
    "plt.xlabel('Year', fontsize = 18)\n",
    "plt.ylabel('Price', fontsize = 18)\n",
    "sns.boxplot(data=df_out, x='Year', y='Price', showfliers=False)"
   ]
  },
  {
   "cell_type": "code",
   "execution_count": null,
   "metadata": {},
   "outputs": [],
   "source": [
    "sns.set_style('whitegrid')\n",
    "sns.jointplot(data = df_out, x='Mileage', y='Price', color = '#538DAA', kind = 'reg')"
   ]
  },
  {
   "cell_type": "code",
   "execution_count": null,
   "metadata": {},
   "outputs": [],
   "source": [
    "sns.set_style('whitegrid')\n",
    "sns.jointplot(data = df_out, x='TO_distance', y='Price', color = '#538DAA', kind = 'reg')"
   ]
  },
  {
   "cell_type": "markdown",
   "metadata": {},
   "source": [
    "#### Training and Testing the Data"
   ]
  },
  {
   "cell_type": "code",
   "execution_count": null,
   "metadata": {},
   "outputs": [],
   "source": [
    "X = df3.drop('Price',axis=1)\n",
    "\n",
    "y = df3['Price']"
   ]
  },
  {
   "cell_type": "code",
   "execution_count": null,
   "metadata": {},
   "outputs": [],
   "source": [
    "from sklearn.model_selection import train_test_split"
   ]
  },
  {
   "cell_type": "code",
   "execution_count": null,
   "metadata": {},
   "outputs": [],
   "source": [
    "X_train, X_test, y_train, y_test = train_test_split(X, y, test_size=0.3, random_state=101)"
   ]
  },
  {
   "cell_type": "markdown",
   "metadata": {},
   "source": [
    "##### Training the Model"
   ]
  },
  {
   "cell_type": "markdown",
   "metadata": {},
   "source": [
    "###### Linear Regression"
   ]
  },
  {
   "cell_type": "code",
   "execution_count": null,
   "metadata": {},
   "outputs": [],
   "source": [
    "from sklearn.linear_model import LinearRegression\n",
    "lr = LinearRegression()"
   ]
  },
  {
   "cell_type": "code",
   "execution_count": null,
   "metadata": {},
   "outputs": [],
   "source": [
    "lr.fit(X_train,y_train)"
   ]
  },
  {
   "cell_type": "code",
   "execution_count": null,
   "metadata": {},
   "outputs": [],
   "source": [
    "# print('Coefficients:\\n{0} \\n\\nIntercept:\\n{1}'.format(lr.coef_,lr.intercept_))"
   ]
  },
  {
   "cell_type": "code",
   "execution_count": null,
   "metadata": {},
   "outputs": [],
   "source": [
    "predictions = lr.predict(X_test)"
   ]
  },
  {
   "cell_type": "code",
   "execution_count": null,
   "metadata": {},
   "outputs": [],
   "source": [
    "from sklearn import metrics"
   ]
  },
  {
   "cell_type": "code",
   "execution_count": null,
   "metadata": {},
   "outputs": [],
   "source": [
    "print('MAE:', metrics.mean_absolute_error(y_test, predictions))\n",
    "print('MSE:', metrics.mean_squared_error(y_test, predictions))\n",
    "print('RMSE:', np.sqrt(metrics.mean_squared_error(y_test, predictions)))"
   ]
  },
  {
   "cell_type": "code",
   "execution_count": null,
   "metadata": {},
   "outputs": [],
   "source": [
    "sns.set_style('whitegrid')\n",
    "sns.jointplot(x=y_test, y=predictions, color = '#538DAA', kind = 'reg',\n",
    "              height = 10)"
   ]
  },
  {
   "cell_type": "code",
   "execution_count": null,
   "metadata": {},
   "outputs": [],
   "source": []
  }
 ],
 "metadata": {
  "kernelspec": {
   "display_name": "Python 3",
   "language": "python",
   "name": "python3"
  },
  "language_info": {
   "codemirror_mode": {
    "name": "ipython",
    "version": 3
   },
   "file_extension": ".py",
   "mimetype": "text/x-python",
   "name": "python",
   "nbconvert_exporter": "python",
   "pygments_lexer": "ipython3",
   "version": "3.7.4"
  }
 },
 "nbformat": 4,
 "nbformat_minor": 4
}
